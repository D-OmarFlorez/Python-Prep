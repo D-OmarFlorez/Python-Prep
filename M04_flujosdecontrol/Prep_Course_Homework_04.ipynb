{
 "cells": [
  {
   "attachments": {},
   "cell_type": "markdown",
   "metadata": {},
   "source": [
    "## Flujos de Control"
   ]
  },
  {
   "attachments": {},
   "cell_type": "markdown",
   "metadata": {},
   "source": [
    "1) Crear una variable que contenga un elemento del conjunto de números enteros y luego imprimir por pantalla si es mayor o menor a cero"
   ]
  },
  {
   "cell_type": "code",
   "execution_count": 12,
   "metadata": {},
   "outputs": [
    {
     "name": "stdout",
     "output_type": "stream",
     "text": [
      "num es menor que cero\n"
     ]
    }
   ],
   "source": [
    "num= -12\n",
    "if (num<0):\n",
    "     print(\"num es menor que cero\")\n",
    "elif(num>0):\n",
    "     print (\"num es mayor que cero\")\n",
    "else:\n",
    "    print(\"num es igual a cero\")"
   ]
  },
  {
   "attachments": {},
   "cell_type": "markdown",
   "metadata": {},
   "source": [
    "2) Crear dos variables y un condicional que informe si son del mismo tipo de dato"
   ]
  },
  {
   "cell_type": "code",
   "execution_count": 15,
   "metadata": {},
   "outputs": [
    {
     "name": "stdout",
     "output_type": "stream",
     "text": [
      "a y b son de diferentes tipos\n"
     ]
    }
   ],
   "source": [
    "a=23\n",
    "b='23'\n",
    "if (type(a) == type (b)):\n",
    "    print('a y b son del mismo tipo')\n",
    "else:\n",
    "    print('a y b son de diferentes tipos')"
   ]
  },
  {
   "attachments": {},
   "cell_type": "markdown",
   "metadata": {},
   "source": [
    "3) Para los valores enteros del 1 al 20, imprimir por pantalla si es par o impar"
   ]
  },
  {
   "cell_type": "code",
   "execution_count": 24,
   "metadata": {},
   "outputs": [
    {
     "name": "stdout",
     "output_type": "stream",
     "text": [
      "el numero  1  es impar\n",
      "el numero  2  es impar\n",
      "el numero  3  es par\n",
      "el numero  4  es impar\n",
      "el numero  5  es impar\n",
      "el numero  6  es par\n",
      "el numero  7  es impar\n",
      "el numero  8  es impar\n",
      "el numero  9  es par\n",
      "el numero  10  es impar\n",
      "el numero  11  es impar\n",
      "el numero  12  es par\n",
      "el numero  13  es impar\n",
      "el numero  14  es impar\n",
      "el numero  15  es par\n",
      "el numero  16  es impar\n",
      "el numero  17  es impar\n",
      "el numero  18  es par\n",
      "el numero  19  es impar\n",
      "el numero  20  es impar\n"
     ]
    }
   ],
   "source": [
    "for i in range ( 1, 21):\n",
    "    if  i % 2 == 0:\n",
    "     print('el numero ',str(i),' es par')\n",
    "    else:\n",
    "     print('el numero ',str(i),' es impar')"
   ]
  },
  {
   "attachments": {},
   "cell_type": "markdown",
   "metadata": {},
   "source": [
    "4) En un ciclo for mostrar para los valores entre 0 y 5 el resultado de elevarlo a la potencia igual a 3"
   ]
  },
  {
   "cell_type": "code",
   "execution_count": 28,
   "metadata": {},
   "outputs": [
    {
     "name": "stdout",
     "output_type": "stream",
     "text": [
      "valor de 1 elevado a la tercera potencia es igual a  1\n",
      "valor de 2 elevado a la tercera potencia es igual a  8\n",
      "valor de 3 elevado a la tercera potencia es igual a  27\n",
      "valor de 4 elevado a la tercera potencia es igual a  64\n",
      "valor de 5 elevado a la tercera potencia es igual a  125\n"
     ]
    }
   ],
   "source": [
    "for a in range(1, 6):\n",
    "    print('valor de',str(a),'elevado a la tercera potencia es igual a: ', str(a**3))"
   ]
  },
  {
   "attachments": {},
   "cell_type": "markdown",
   "metadata": {},
   "source": [
    "5) Crear una variable que contenga un número entero y realizar un ciclo for la misma cantidad de ciclos"
   ]
  },
  {
   "cell_type": "code",
   "execution_count": 33,
   "metadata": {},
   "outputs": [
    {
     "name": "stdout",
     "output_type": "stream",
     "text": [
      "0\n",
      "1\n",
      "2\n",
      "3\n",
      "4\n"
     ]
    }
   ],
   "source": [
    "i=5\n",
    "for i in range (0 , i):\n",
    "    print(i)"
   ]
  },
  {
   "attachments": {},
   "cell_type": "markdown",
   "metadata": {},
   "source": [
    "6) Utilizar un ciclo while para realizar el factorial de un número guardado en una variable, sólo si la variable contiene un número entero mayor a 0"
   ]
  },
  {
   "cell_type": "code",
   "execution_count": 48,
   "metadata": {},
   "outputs": [
    {
     "name": "stdout",
     "output_type": "stream",
     "text": [
      "el numero es un factorial 720\n"
     ]
    }
   ],
   "source": [
    "n=6\n",
    "if (type(n)== int):\n",
    "    if (n>0):\n",
    "        factorial= n\n",
    "        while(n>2):\n",
    "            n= n-1\n",
    "            factorial= factorial*n\n",
    "        print('el numero es un factorial',factorial )\n",
    "    else:\n",
    "        print('la variable no es mayor que cero')\n",
    "else:\n",
    "    print('la variable no es un entero')\n",
    "    \n",
    "    \n"
   ]
  },
  {
   "attachments": {},
   "cell_type": "markdown",
   "metadata": {},
   "source": [
    "7) Crear un ciclo for dentro de un ciclo while"
   ]
  },
  {
   "cell_type": "code",
   "execution_count": 98,
   "metadata": {},
   "outputs": [
    {
     "name": "stdout",
     "output_type": "stream",
     "text": [
      "para el ciclo mayor 3\n",
      "  para el ciclo menor 1\n",
      "  para el ciclo menor 2\n",
      "  para el ciclo menor 3\n",
      "para el ciclo mayor 4\n",
      "  para el ciclo menor 1\n",
      "  para el ciclo menor 2\n",
      "  para el ciclo menor 3\n",
      "  para el ciclo menor 4\n"
     ]
    }
   ],
   "source": [
    "a=3\n",
    "while a < 5:\n",
    "    print('para el ciclo mayor',str(a))\n",
    "    for i in range(1, 1+a):\n",
    "        print('  para el ciclo menor', str(i))\n",
    "    a += 1"
   ]
  },
  {
   "attachments": {},
   "cell_type": "markdown",
   "metadata": {},
   "source": [
    "8) Crear un ciclo while dentro de un ciclo for"
   ]
  },
  {
   "cell_type": "code",
   "execution_count": 85,
   "metadata": {},
   "outputs": [],
   "source": [
    "x= 5\n",
    "for b in range(1, x):\n",
    "    while (x<5):\n",
    "        x-=0\n",
    "        print('para el numero', + str(x))\n",
    "        print('para el numero', + str(b))"
   ]
  },
  {
   "cell_type": "code",
   "execution_count": 120,
   "metadata": {},
   "outputs": [
    {
     "name": "stdout",
     "output_type": "stream",
     "text": [
      "Ciclo para for1\n",
      "Ciclo para while 4\n",
      "Ciclo para while 3\n",
      "Ciclo para while 2\n",
      "Ciclo para while 1\n",
      "Ciclo para for2\n",
      "Ciclo para while 4\n",
      "Ciclo para while 3\n",
      "Ciclo para while 2\n",
      "Ciclo para while 1\n",
      "Ciclo para for3\n",
      "Ciclo para while 4\n",
      "Ciclo para while 3\n",
      "Ciclo para while 2\n",
      "Ciclo para while 1\n"
     ]
    }
   ],
   "source": [
    "n = 4\n",
    "for i in range(1, n):\n",
    "    print('Ciclo para for ' + str(i))  \n",
    "    \n",
    "    var = n  \n",
    "    \n",
    "    while var > 0: \n",
    "        print('Ciclo para while ' + str(var))  \n",
    "        var-= 1\n",
    "        \n",
    "        if var <= 0:\n",
    "            break"
   ]
  },
  {
   "attachments": {},
   "cell_type": "markdown",
   "metadata": {},
   "source": [
    "9) Imprimir los números primos existentes entre 0 y 30"
   ]
  },
  {
   "cell_type": "code",
   "execution_count": 109,
   "metadata": {},
   "outputs": [
    {
     "name": "stdout",
     "output_type": "stream",
     "text": [
      "0\n",
      "1\n",
      "2\n",
      "3\n",
      "5\n",
      "7\n",
      "11\n",
      "13\n",
      "17\n",
      "19\n",
      "23\n",
      "29\n"
     ]
    }
   ],
   "source": [
    "mayor=30\n",
    "menor=0\n",
    "p = True\n",
    "while (menor < mayor):\n",
    "    for b in range(2, menor):\n",
    "        if (menor % b ==0):\n",
    "            p = False\n",
    "    if (p):\n",
    "        print(menor)\n",
    "    else:\n",
    "        p = True\n",
    "    menor += 1"
   ]
  },
  {
   "attachments": {},
   "cell_type": "markdown",
   "metadata": {},
   "source": [
    "10) ¿Se puede mejorar el proceso del punto 9? Utilizar las sentencias break y/ó continue para tal fin"
   ]
  },
  {
   "cell_type": "code",
   "execution_count": 119,
   "metadata": {},
   "outputs": [
    {
     "name": "stdout",
     "output_type": "stream",
     "text": [
      "0\n",
      "1\n",
      "2\n",
      "3\n",
      "5\n",
      "7\n",
      "11\n",
      "13\n",
      "17\n",
      "19\n",
      "23\n",
      "29\n"
     ]
    }
   ],
   "source": [
    "n = 0\n",
    "p= True\n",
    "while (n < mayor):\n",
    "    for b in range(2, n):\n",
    "        if (n % b == 0):\n",
    "            p = False\n",
    "            break\n",
    "    if (p):\n",
    "        print(n)\n",
    "    else:\n",
    "        p = True\n",
    "    n += 1\n",
    "\n",
    "    \n",
    "    "
   ]
  },
  {
   "attachments": {},
   "cell_type": "markdown",
   "metadata": {},
   "source": [
    "11) En los puntos 9 y 10, se diseño un código que encuentra números primos y además se lo optimizó. ¿Es posible saber en qué medida se optimizó?"
   ]
  },
  {
   "cell_type": "code",
   "execution_count": 121,
   "metadata": {},
   "outputs": [
    {
     "name": "stdout",
     "output_type": "stream",
     "text": [
      "0\n",
      "1\n",
      "2\n",
      "3\n",
      "5\n",
      "7\n",
      "11\n",
      "13\n",
      "17\n",
      "19\n",
      "23\n",
      "29\n",
      "ciclos en total: 378\n"
     ]
    }
   ],
   "source": [
    "sinbreak= 0\n",
    "n = 0\n",
    "p= True\n",
    "while (n < mayor):\n",
    "    for b in range(2, n):\n",
    "        sinbreak += 1\n",
    "        if (n % b == 0):\n",
    "            p= False\n",
    "    if (p):\n",
    "        print(n)\n",
    "    else:\n",
    "        p = True\n",
    "    n += 1\n",
    "print('ciclos en total: ' + str(sinbreak))"
   ]
  },
  {
   "cell_type": "code",
   "execution_count": 125,
   "metadata": {},
   "outputs": [
    {
     "name": "stdout",
     "output_type": "stream",
     "text": [
      "0\n",
      "1\n",
      "2\n",
      "3\n",
      "5\n",
      "7\n",
      "11\n",
      "13\n",
      "17\n",
      "19\n",
      "23\n",
      "29\n",
      "ciclos en total: 134\n",
      "promedio de optimizacion es de: 0.3544973544973545\n"
     ]
    }
   ],
   "source": [
    "conbreak =0\n",
    "n = 0\n",
    "p= True\n",
    "while (n < mayor):\n",
    "    for b in range(2, n):\n",
    "        conbreak += 1\n",
    "        if (n % b == 0):\n",
    "            p= False\n",
    "            break\n",
    "    if (p):\n",
    "        print(n)\n",
    "    else:\n",
    "        p = True\n",
    "    n += 1\n",
    "print('ciclos en total: ' + str(conbreak))\n",
    "print('promedio de optimizacion es de:',str(conbreak/sinbreak))\n"
   ]
  },
  {
   "attachments": {},
   "cell_type": "markdown",
   "metadata": {},
   "source": [
    "12) Si la cantidad de números que se evalúa es mayor a treinta, esa optimización crece?"
   ]
  },
  {
   "cell_type": "code",
   "execution_count": 127,
   "metadata": {},
   "outputs": [
    {
     "name": "stdout",
     "output_type": "stream",
     "text": [
      "0\n",
      "1\n",
      "2\n",
      "3\n",
      "5\n",
      "7\n",
      "11\n",
      "13\n",
      "17\n",
      "19\n",
      "23\n",
      "29\n",
      "31\n",
      "37\n",
      "41\n",
      "43\n",
      "47\n",
      "ciclos en total: 349\n",
      "promedio de optimizacion es de: 0.9232804232804233\n"
     ]
    }
   ],
   "source": [
    "mayor=50\n",
    "conbreak =0\n",
    "n = 0\n",
    "p= True\n",
    "while (n < mayor):\n",
    "    for b in range(2, n):\n",
    "        conbreak += 1\n",
    "        if (n % b == 0):\n",
    "            p= False\n",
    "            break\n",
    "    if (p):\n",
    "        print(n)\n",
    "    else:\n",
    "        p = True\n",
    "    n += 1\n",
    "print('ciclos en total: ' + str(conbreak))\n",
    "print('promedio de optimizacion es de:',str(conbreak/sinbreak))\n",
    "#en efecto la optimizacion aumenta a medida que sube el calculo"
   ]
  },
  {
   "attachments": {},
   "cell_type": "markdown",
   "metadata": {},
   "source": [
    "13) Aplicando continue, armar un ciclo while que solo imprima los valores divisibles por 12, dentro del rango de números de 100 a 300"
   ]
  },
  {
   "cell_type": "code",
   "execution_count": 138,
   "metadata": {},
   "outputs": [
    {
     "name": "stdout",
     "output_type": "stream",
     "text": [
      "100 es divisible por doce\n",
      "101 es divisible por doce\n",
      "\n",
      "103 es divisible por doce\n",
      "104 es divisible por doce\n",
      "105 es divisible por doce\n",
      "106 es divisible por doce\n",
      "107 es divisible por doce\n",
      "\n",
      "109 es divisible por doce\n",
      "110 es divisible por doce\n",
      "111 es divisible por doce\n",
      "112 es divisible por doce\n",
      "113 es divisible por doce\n",
      "\n",
      "115 es divisible por doce\n",
      "116 es divisible por doce\n",
      "117 es divisible por doce\n",
      "118 es divisible por doce\n",
      "119 es divisible por doce\n",
      "\n",
      "121 es divisible por doce\n",
      "122 es divisible por doce\n",
      "123 es divisible por doce\n",
      "124 es divisible por doce\n",
      "125 es divisible por doce\n",
      "\n",
      "127 es divisible por doce\n",
      "128 es divisible por doce\n",
      "129 es divisible por doce\n",
      "130 es divisible por doce\n",
      "131 es divisible por doce\n",
      "\n",
      "133 es divisible por doce\n",
      "134 es divisible por doce\n",
      "135 es divisible por doce\n",
      "136 es divisible por doce\n",
      "137 es divisible por doce\n",
      "\n",
      "139 es divisible por doce\n",
      "140 es divisible por doce\n",
      "141 es divisible por doce\n",
      "142 es divisible por doce\n",
      "143 es divisible por doce\n",
      "\n",
      "145 es divisible por doce\n",
      "146 es divisible por doce\n",
      "147 es divisible por doce\n",
      "148 es divisible por doce\n",
      "149 es divisible por doce\n",
      "\n",
      "151 es divisible por doce\n",
      "152 es divisible por doce\n",
      "153 es divisible por doce\n",
      "154 es divisible por doce\n",
      "155 es divisible por doce\n",
      "\n",
      "157 es divisible por doce\n",
      "158 es divisible por doce\n",
      "159 es divisible por doce\n",
      "160 es divisible por doce\n",
      "161 es divisible por doce\n",
      "\n",
      "163 es divisible por doce\n",
      "164 es divisible por doce\n",
      "165 es divisible por doce\n",
      "166 es divisible por doce\n",
      "167 es divisible por doce\n",
      "\n",
      "169 es divisible por doce\n",
      "170 es divisible por doce\n",
      "171 es divisible por doce\n",
      "172 es divisible por doce\n",
      "173 es divisible por doce\n",
      "\n",
      "175 es divisible por doce\n",
      "176 es divisible por doce\n",
      "177 es divisible por doce\n",
      "178 es divisible por doce\n",
      "179 es divisible por doce\n",
      "\n",
      "181 es divisible por doce\n",
      "182 es divisible por doce\n",
      "183 es divisible por doce\n",
      "184 es divisible por doce\n",
      "185 es divisible por doce\n",
      "\n",
      "187 es divisible por doce\n",
      "188 es divisible por doce\n",
      "189 es divisible por doce\n",
      "190 es divisible por doce\n",
      "191 es divisible por doce\n",
      "\n",
      "193 es divisible por doce\n",
      "194 es divisible por doce\n",
      "195 es divisible por doce\n",
      "196 es divisible por doce\n",
      "197 es divisible por doce\n",
      "\n",
      "199 es divisible por doce\n",
      "200 es divisible por doce\n",
      "201 es divisible por doce\n",
      "202 es divisible por doce\n",
      "203 es divisible por doce\n",
      "\n",
      "205 es divisible por doce\n",
      "206 es divisible por doce\n",
      "207 es divisible por doce\n",
      "208 es divisible por doce\n",
      "209 es divisible por doce\n",
      "\n",
      "211 es divisible por doce\n",
      "212 es divisible por doce\n",
      "213 es divisible por doce\n",
      "214 es divisible por doce\n",
      "215 es divisible por doce\n",
      "\n",
      "217 es divisible por doce\n",
      "218 es divisible por doce\n",
      "219 es divisible por doce\n",
      "220 es divisible por doce\n",
      "221 es divisible por doce\n",
      "\n",
      "223 es divisible por doce\n",
      "224 es divisible por doce\n",
      "225 es divisible por doce\n",
      "226 es divisible por doce\n",
      "227 es divisible por doce\n",
      "\n",
      "229 es divisible por doce\n",
      "230 es divisible por doce\n",
      "231 es divisible por doce\n",
      "232 es divisible por doce\n",
      "233 es divisible por doce\n",
      "\n",
      "235 es divisible por doce\n",
      "236 es divisible por doce\n",
      "237 es divisible por doce\n",
      "238 es divisible por doce\n",
      "239 es divisible por doce\n",
      "\n",
      "241 es divisible por doce\n",
      "242 es divisible por doce\n",
      "243 es divisible por doce\n",
      "244 es divisible por doce\n",
      "245 es divisible por doce\n",
      "\n",
      "247 es divisible por doce\n",
      "248 es divisible por doce\n",
      "249 es divisible por doce\n",
      "250 es divisible por doce\n",
      "251 es divisible por doce\n",
      "\n",
      "253 es divisible por doce\n",
      "254 es divisible por doce\n",
      "255 es divisible por doce\n",
      "256 es divisible por doce\n",
      "257 es divisible por doce\n",
      "\n",
      "259 es divisible por doce\n",
      "260 es divisible por doce\n",
      "261 es divisible por doce\n",
      "262 es divisible por doce\n",
      "263 es divisible por doce\n",
      "\n",
      "265 es divisible por doce\n",
      "266 es divisible por doce\n",
      "267 es divisible por doce\n",
      "268 es divisible por doce\n",
      "269 es divisible por doce\n",
      "\n",
      "271 es divisible por doce\n",
      "272 es divisible por doce\n",
      "273 es divisible por doce\n",
      "274 es divisible por doce\n",
      "275 es divisible por doce\n",
      "\n",
      "277 es divisible por doce\n",
      "278 es divisible por doce\n",
      "279 es divisible por doce\n",
      "280 es divisible por doce\n",
      "281 es divisible por doce\n",
      "\n",
      "283 es divisible por doce\n",
      "284 es divisible por doce\n",
      "285 es divisible por doce\n",
      "286 es divisible por doce\n",
      "287 es divisible por doce\n",
      "\n",
      "289 es divisible por doce\n",
      "290 es divisible por doce\n",
      "291 es divisible por doce\n",
      "292 es divisible por doce\n",
      "293 es divisible por doce\n",
      "\n",
      "295 es divisible por doce\n",
      "296 es divisible por doce\n",
      "297 es divisible por doce\n",
      "298 es divisible por doce\n",
      "299 es divisible por doce\n",
      "\n",
      "301 es divisible por doce\n"
     ]
    }
   ],
   "source": [
    "num=99\n",
    "while( num <= 300):\n",
    "    num +=1\n",
    "    if (num % 6 !=0):\n",
    "        print(num,'es divisible por doce')\n",
    "        continue\n",
    "    else:\n",
    "        print('')"
   ]
  },
  {
   "attachments": {},
   "cell_type": "markdown",
   "metadata": {},
   "source": [
    "14) Utilizar la función **input()** que permite hacer ingresos por teclado, para encontrar números primos y dar la opción al usario de buscar el siguiente"
   ]
  },
  {
   "cell_type": "code",
   "execution_count": null,
   "metadata": {},
   "outputs": [],
   "source": [
    "n = 1\n",
    "sigue = 1\n",
    "primo = True\n",
    "while (sigue == 1):\n",
    "    for div in range(2, n):\n",
    "        if (n % div == 0):\n",
    "            primo = False\n",
    "            break\n",
    "    if (primo):\n",
    "        print(n)\n",
    "        print('¿Desea encontrar el siguiente número primo?')\n",
    "        if (input() != '1'):\n",
    "            print('Se finaliza el proceso')\n",
    "            break\n",
    "    else:\n",
    "        primo = True\n",
    "    n += 1\n",
    "    #este tuve que mirar todo el ejemplo resolvido para guiarme pues no sabia que hacer, pero algo entendi"
   ]
  },
  {
   "attachments": {},
   "cell_type": "markdown",
   "metadata": {},
   "source": [
    "15) Crear un ciclo while que encuentre dentro del rango de 100 a 300 el primer número divisible por 3 y además múltiplo de 6"
   ]
  },
  {
   "cell_type": "code",
   "execution_count": 141,
   "metadata": {},
   "outputs": [
    {
     "name": "stdout",
     "output_type": "stream",
     "text": [
      "el numero es 102\n"
     ]
    }
   ],
   "source": [
    "a=100\n",
    "while(a<=300):\n",
    "    if (a % 6 == 0):\n",
    "        print('el numero es', str(a))\n",
    "        break\n",
    "    a+=1"
   ]
  }
 ],
 "metadata": {
  "interpreter": {
   "hash": "c85384e4cb51c8b72350f3a8712cc8351fdc3955e32a27f9b60c6242ab125f01"
  },
  "kernelspec": {
   "display_name": "Python 3 (ipykernel)",
   "language": "python",
   "name": "python3"
  },
  "language_info": {
   "codemirror_mode": {
    "name": "ipython",
    "version": 3
   },
   "file_extension": ".py",
   "mimetype": "text/x-python",
   "name": "python",
   "nbconvert_exporter": "python",
   "pygments_lexer": "ipython3",
   "version": "3.11.4"
  }
 },
 "nbformat": 4,
 "nbformat_minor": 4
}
